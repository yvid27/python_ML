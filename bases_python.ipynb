{
  "nbformat": 4,
  "nbformat_minor": 0,
  "metadata": {
    "colab": {
      "name": "bases_python.ipynb",
      "provenance": [],
      "toc_visible": true,
      "mount_file_id": "1cSkfiA9OrhPJ34Y6MBYYjnHKKYTt2hG1",
      "authorship_tag": "ABX9TyOgUm87x2er/9xCdCpZ5PTn",
      "include_colab_link": true
    },
    "kernelspec": {
      "name": "python3",
      "display_name": "Python 3"
    }
  },
  "cells": [
    {
      "cell_type": "markdown",
      "metadata": {
        "id": "view-in-github",
        "colab_type": "text"
      },
      "source": [
        "<a href=\"https://colab.research.google.com/github/yvid27/python_ML/blob/main/bases_python.ipynb\" target=\"_parent\"><img src=\"https://colab.research.google.com/assets/colab-badge.svg\" alt=\"Open In Colab\"/></a>"
      ]
    },
    {
      "cell_type": "markdown",
      "metadata": {
        "id": "4NxGQyvFHpGY"
      },
      "source": [
        "# Introducción a Python\n",
        "\n",
        "### bases"
      ]
    },
    {
      "cell_type": "code",
      "metadata": {
        "id": "PpRPTAj1GYxI",
        "outputId": "5edfbfe3-5996-4105-f23a-9dad0c8dc145",
        "colab": {
          "base_uri": "https://localhost:8080/"
        }
      },
      "source": [
        "a=5+5\n",
        "a"
      ],
      "execution_count": 1,
      "outputs": [
        {
          "output_type": "execute_result",
          "data": {
            "text/plain": [
              "10"
            ]
          },
          "metadata": {
            "tags": []
          },
          "execution_count": 1
        }
      ]
    },
    {
      "cell_type": "code",
      "metadata": {
        "id": "-uVBjxfdHgP9",
        "outputId": "14f9d8b8-5aaf-4539-851c-260abfbd4525",
        "colab": {
          "base_uri": "https://localhost:8080/"
        }
      },
      "source": [
        "import math\n",
        "math.floor(2.3) # Funcion piso"
      ],
      "execution_count": 2,
      "outputs": [
        {
          "output_type": "execute_result",
          "data": {
            "text/plain": [
              "2"
            ]
          },
          "metadata": {
            "tags": []
          },
          "execution_count": 2
        }
      ]
    },
    {
      "cell_type": "code",
      "metadata": {
        "id": "Jn44a-xJI6nk",
        "outputId": "5256665f-c56d-4297-8be1-78e34b28ca7b",
        "colab": {
          "base_uri": "https://localhost:8080/"
        }
      },
      "source": [
        "math.fabs(-5) # valor absoluto"
      ],
      "execution_count": 3,
      "outputs": [
        {
          "output_type": "execute_result",
          "data": {
            "text/plain": [
              "5.0"
            ]
          },
          "metadata": {
            "tags": []
          },
          "execution_count": 3
        }
      ]
    },
    {
      "cell_type": "code",
      "metadata": {
        "id": "cbIhV_QwJAMG",
        "outputId": "a70450d3-6635-428b-a66a-2de14545ec95",
        "colab": {
          "base_uri": "https://localhost:8080/"
        }
      },
      "source": [
        "math.factorial(3) # Factorial"
      ],
      "execution_count": 4,
      "outputs": [
        {
          "output_type": "execute_result",
          "data": {
            "text/plain": [
              "6"
            ]
          },
          "metadata": {
            "tags": []
          },
          "execution_count": 4
        }
      ]
    },
    {
      "cell_type": "markdown",
      "metadata": {
        "id": "t3Zysg3sKIW8"
      },
      "source": [
        "# Ciencia de Datos\n",
        "\n",
        "## Cargando librerias"
      ]
    },
    {
      "cell_type": "code",
      "metadata": {
        "id": "wYqRcYTfJDZL"
      },
      "source": [
        "import os  # manipular archivos\n",
        "import math # calculos matemicos\n",
        "import numpy as np # manejar numpy arrays y funciones\n",
        "import pandas as pd # pandas series, panda dataframe\n",
        "import scipy #funciones y \n",
        "import matplotlib.pyplot as plt\n",
        "import seaborn as sns"
      ],
      "execution_count": 6,
      "outputs": []
    },
    {
      "cell_type": "code",
      "metadata": {
        "id": "hFw3iPpFJ7Kf"
      },
      "source": [
        "os.mkdir('Data') # Crear carpeta Data"
      ],
      "execution_count": 7,
      "outputs": []
    },
    {
      "cell_type": "code",
      "metadata": {
        "id": "NWqGv6jSK6Ek",
        "outputId": "272c03dc-70d3-41c5-e00a-8b976e0aaec4",
        "colab": {
          "base_uri": "https://localhost:8080/"
        }
      },
      "source": [
        "# Obtener el archivo de excel\n",
        "!wget -O Data/retail_online_sample.xlsx https://github.com/see-ecuador/2020_11_PythonWeekend/blob/main/01_Bases_Python_DataScience/Data/retail_online_sample.xlsx"
      ],
      "execution_count": 14,
      "outputs": [
        {
          "output_type": "stream",
          "text": [
            "--2020-11-07 14:54:37--  https://github.com/see-ecuador/2020_11_PythonWeekend/blob/main/01_Bases_Python_DataScience/Data/retail_online_sample.xlsx\n",
            "Resolving github.com (github.com)... 192.30.255.113\n",
            "Connecting to github.com (github.com)|192.30.255.113|:443... connected.\n",
            "HTTP request sent, awaiting response... 200 OK\n",
            "Length: unspecified [text/html]\n",
            "Saving to: ‘Data/retail_online_sample.xlsx’\n",
            "\n",
            "Data/retail_online_     [ <=>                ]  84.13K  --.-KB/s    in 0.02s   \n",
            "\n",
            "2020-11-07 14:54:37 (4.61 MB/s) - ‘Data/retail_online_sample.xlsx’ saved [86149]\n",
            "\n"
          ],
          "name": "stdout"
        }
      ]
    },
    {
      "cell_type": "code",
      "metadata": {
        "id": "OsEVr--gOQvf",
        "outputId": "151a3457-ea29-40dc-c560-c1c62119299c",
        "colab": {
          "base_uri": "https://localhost:8080/"
        }
      },
      "source": [
        "!gdown --id 1QEBpfA5Lm8yxWdevRBytj6YPaNr0uIkv"
      ],
      "execution_count": 18,
      "outputs": [
        {
          "output_type": "stream",
          "text": [
            "Downloading...\n",
            "From: https://drive.google.com/uc?id=1QEBpfA5Lm8yxWdevRBytj6YPaNr0uIkv\n",
            "To: /content/retail_online_sample.xlsx\n",
            "\r  0% 0.00/662k [00:00<?, ?B/s]\r100% 662k/662k [00:00<00:00, 96.7MB/s]\n"
          ],
          "name": "stdout"
        }
      ]
    },
    {
      "cell_type": "markdown",
      "metadata": {
        "id": "JvJp06zHLbb2"
      },
      "source": [
        "####3ro: Importar Datos"
      ]
    },
    {
      "cell_type": "code",
      "metadata": {
        "id": "jEb9cMpoLH1N",
        "outputId": "4c96d3c5-1696-4d69-82b1-d31b502356d4",
        "colab": {
          "base_uri": "https://localhost:8080/",
          "height": 204
        }
      },
      "source": [
        "transacciones = pd.read_excel(\"Data/retail_online_sample.xlsx\",\n",
        "sheet_name = 'transacciones')\n",
        "transacciones.head(5)"
      ],
      "execution_count": 19,
      "outputs": [
        {
          "output_type": "execute_result",
          "data": {
            "text/html": [
              "<div>\n",
              "<style scoped>\n",
              "    .dataframe tbody tr th:only-of-type {\n",
              "        vertical-align: middle;\n",
              "    }\n",
              "\n",
              "    .dataframe tbody tr th {\n",
              "        vertical-align: top;\n",
              "    }\n",
              "\n",
              "    .dataframe thead th {\n",
              "        text-align: right;\n",
              "    }\n",
              "</style>\n",
              "<table border=\"1\" class=\"dataframe\">\n",
              "  <thead>\n",
              "    <tr style=\"text-align: right;\">\n",
              "      <th></th>\n",
              "      <th>InvoiceNo</th>\n",
              "      <th>StockCode</th>\n",
              "      <th>Quantity</th>\n",
              "      <th>InvoiceDate</th>\n",
              "      <th>UnitPrice</th>\n",
              "      <th>CustomerID</th>\n",
              "      <th>Country</th>\n",
              "    </tr>\n",
              "  </thead>\n",
              "  <tbody>\n",
              "    <tr>\n",
              "      <th>0</th>\n",
              "      <td>536378</td>\n",
              "      <td>21931</td>\n",
              "      <td>10</td>\n",
              "      <td>12/1/2010 9:37</td>\n",
              "      <td>195</td>\n",
              "      <td>14688.0</td>\n",
              "      <td>United Kingdom</td>\n",
              "    </tr>\n",
              "    <tr>\n",
              "      <th>1</th>\n",
              "      <td>536382</td>\n",
              "      <td>22379</td>\n",
              "      <td>10</td>\n",
              "      <td>12/1/2010 9:45</td>\n",
              "      <td>21</td>\n",
              "      <td>16098.0</td>\n",
              "      <td>United Kingdom</td>\n",
              "    </tr>\n",
              "    <tr>\n",
              "      <th>2</th>\n",
              "      <td>536394</td>\n",
              "      <td>22866</td>\n",
              "      <td>96</td>\n",
              "      <td>12/1/2010 10:39</td>\n",
              "      <td>185</td>\n",
              "      <td>13408.0</td>\n",
              "      <td>United Kingdom</td>\n",
              "    </tr>\n",
              "    <tr>\n",
              "      <th>3</th>\n",
              "      <td>536395</td>\n",
              "      <td>22866</td>\n",
              "      <td>48</td>\n",
              "      <td>12/1/2010 10:47</td>\n",
              "      <td>21</td>\n",
              "      <td>13767.0</td>\n",
              "      <td>United Kingdom</td>\n",
              "    </tr>\n",
              "    <tr>\n",
              "      <th>4</th>\n",
              "      <td>536398</td>\n",
              "      <td>22866</td>\n",
              "      <td>12</td>\n",
              "      <td>12/1/2010 10:52</td>\n",
              "      <td>21</td>\n",
              "      <td>13448.0</td>\n",
              "      <td>United Kingdom</td>\n",
              "    </tr>\n",
              "  </tbody>\n",
              "</table>\n",
              "</div>"
            ],
            "text/plain": [
              "  InvoiceNo StockCode  Quantity  ... UnitPrice  CustomerID         Country\n",
              "0    536378     21931        10  ...       195     14688.0  United Kingdom\n",
              "1    536382     22379        10  ...        21     16098.0  United Kingdom\n",
              "2    536394     22866        96  ...       185     13408.0  United Kingdom\n",
              "3    536395     22866        48  ...        21     13767.0  United Kingdom\n",
              "4    536398     22866        12  ...        21     13448.0  United Kingdom\n",
              "\n",
              "[5 rows x 7 columns]"
            ]
          },
          "metadata": {
            "tags": []
          },
          "execution_count": 19
        }
      ]
    },
    {
      "cell_type": "code",
      "metadata": {
        "id": "LmLki0xzLghZ",
        "outputId": "08db8232-0483-4832-d670-c16b28a0e3a6",
        "colab": {
          "base_uri": "https://localhost:8080/",
          "height": 204
        }
      },
      "source": [
        "productos = pd.read_excel(\"Data/retail_online_sample.xlsx\",\n",
        "sheet_name = 'productos')\n",
        "productos.head(5)"
      ],
      "execution_count": 20,
      "outputs": [
        {
          "output_type": "execute_result",
          "data": {
            "text/html": [
              "<div>\n",
              "<style scoped>\n",
              "    .dataframe tbody tr th:only-of-type {\n",
              "        vertical-align: middle;\n",
              "    }\n",
              "\n",
              "    .dataframe tbody tr th {\n",
              "        vertical-align: top;\n",
              "    }\n",
              "\n",
              "    .dataframe thead th {\n",
              "        text-align: right;\n",
              "    }\n",
              "</style>\n",
              "<table border=\"1\" class=\"dataframe\">\n",
              "  <thead>\n",
              "    <tr style=\"text-align: right;\">\n",
              "      <th></th>\n",
              "      <th>StockCode</th>\n",
              "      <th>Description</th>\n",
              "    </tr>\n",
              "  </thead>\n",
              "  <tbody>\n",
              "    <tr>\n",
              "      <th>0</th>\n",
              "      <td>23064</td>\n",
              "      <td>CINDERELLA CHANDELIER</td>\n",
              "    </tr>\n",
              "    <tr>\n",
              "      <th>1</th>\n",
              "      <td>21002</td>\n",
              "      <td>ROSE DU SUD DRAWSTRING BAG</td>\n",
              "    </tr>\n",
              "    <tr>\n",
              "      <th>2</th>\n",
              "      <td>20831</td>\n",
              "      <td>GOLD PHOTO FRAME</td>\n",
              "    </tr>\n",
              "    <tr>\n",
              "      <th>3</th>\n",
              "      <td>22964</td>\n",
              "      <td>3 PIECE SPACEBOY COOKIE CUTTER SET</td>\n",
              "    </tr>\n",
              "    <tr>\n",
              "      <th>4</th>\n",
              "      <td>22609</td>\n",
              "      <td>PENS ASSORTED SPACEBALL</td>\n",
              "    </tr>\n",
              "  </tbody>\n",
              "</table>\n",
              "</div>"
            ],
            "text/plain": [
              "  StockCode                         Description\n",
              "0     23064              CINDERELLA CHANDELIER \n",
              "1     21002          ROSE DU SUD DRAWSTRING BAG\n",
              "2     20831                    GOLD PHOTO FRAME\n",
              "3     22964  3 PIECE SPACEBOY COOKIE CUTTER SET\n",
              "4     22609             PENS ASSORTED SPACEBALL"
            ]
          },
          "metadata": {
            "tags": []
          },
          "execution_count": 20
        }
      ]
    },
    {
      "cell_type": "code",
      "metadata": {
        "id": "9JGrdNXgOo9Q",
        "outputId": "b5614272-c328-46c4-9b39-1e2512aa32fc",
        "colab": {
          "base_uri": "https://localhost:8080/",
          "height": 419
        }
      },
      "source": [
        "transacciones\n"
      ],
      "execution_count": 21,
      "outputs": [
        {
          "output_type": "execute_result",
          "data": {
            "text/html": [
              "<div>\n",
              "<style scoped>\n",
              "    .dataframe tbody tr th:only-of-type {\n",
              "        vertical-align: middle;\n",
              "    }\n",
              "\n",
              "    .dataframe tbody tr th {\n",
              "        vertical-align: top;\n",
              "    }\n",
              "\n",
              "    .dataframe thead th {\n",
              "        text-align: right;\n",
              "    }\n",
              "</style>\n",
              "<table border=\"1\" class=\"dataframe\">\n",
              "  <thead>\n",
              "    <tr style=\"text-align: right;\">\n",
              "      <th></th>\n",
              "      <th>InvoiceNo</th>\n",
              "      <th>StockCode</th>\n",
              "      <th>Quantity</th>\n",
              "      <th>InvoiceDate</th>\n",
              "      <th>UnitPrice</th>\n",
              "      <th>CustomerID</th>\n",
              "      <th>Country</th>\n",
              "    </tr>\n",
              "  </thead>\n",
              "  <tbody>\n",
              "    <tr>\n",
              "      <th>0</th>\n",
              "      <td>536378</td>\n",
              "      <td>21931</td>\n",
              "      <td>10</td>\n",
              "      <td>12/1/2010 9:37</td>\n",
              "      <td>195</td>\n",
              "      <td>14688.0</td>\n",
              "      <td>United Kingdom</td>\n",
              "    </tr>\n",
              "    <tr>\n",
              "      <th>1</th>\n",
              "      <td>536382</td>\n",
              "      <td>22379</td>\n",
              "      <td>10</td>\n",
              "      <td>12/1/2010 9:45</td>\n",
              "      <td>21</td>\n",
              "      <td>16098.0</td>\n",
              "      <td>United Kingdom</td>\n",
              "    </tr>\n",
              "    <tr>\n",
              "      <th>2</th>\n",
              "      <td>536394</td>\n",
              "      <td>22866</td>\n",
              "      <td>96</td>\n",
              "      <td>12/1/2010 10:39</td>\n",
              "      <td>185</td>\n",
              "      <td>13408.0</td>\n",
              "      <td>United Kingdom</td>\n",
              "    </tr>\n",
              "    <tr>\n",
              "      <th>3</th>\n",
              "      <td>536395</td>\n",
              "      <td>22866</td>\n",
              "      <td>48</td>\n",
              "      <td>12/1/2010 10:47</td>\n",
              "      <td>21</td>\n",
              "      <td>13767.0</td>\n",
              "      <td>United Kingdom</td>\n",
              "    </tr>\n",
              "    <tr>\n",
              "      <th>4</th>\n",
              "      <td>536398</td>\n",
              "      <td>22866</td>\n",
              "      <td>12</td>\n",
              "      <td>12/1/2010 10:52</td>\n",
              "      <td>21</td>\n",
              "      <td>13448.0</td>\n",
              "      <td>United Kingdom</td>\n",
              "    </tr>\n",
              "    <tr>\n",
              "      <th>...</th>\n",
              "      <td>...</td>\n",
              "      <td>...</td>\n",
              "      <td>...</td>\n",
              "      <td>...</td>\n",
              "      <td>...</td>\n",
              "      <td>...</td>\n",
              "      <td>...</td>\n",
              "    </tr>\n",
              "    <tr>\n",
              "      <th>15672</th>\n",
              "      <td>581538</td>\n",
              "      <td>22992</td>\n",
              "      <td>1</td>\n",
              "      <td>12/9/2011 11:34</td>\n",
              "      <td>195</td>\n",
              "      <td>14446.0</td>\n",
              "      <td>United Kingdom</td>\n",
              "    </tr>\n",
              "    <tr>\n",
              "      <th>15673</th>\n",
              "      <td>C581569</td>\n",
              "      <td>20979</td>\n",
              "      <td>-5</td>\n",
              "      <td>12/9/2011 11:58</td>\n",
              "      <td>125</td>\n",
              "      <td>17315.0</td>\n",
              "      <td>United Kingdom</td>\n",
              "    </tr>\n",
              "    <tr>\n",
              "      <th>15674</th>\n",
              "      <td>581578</td>\n",
              "      <td>84997D</td>\n",
              "      <td>8</td>\n",
              "      <td>12/9/2011 12:16</td>\n",
              "      <td>415</td>\n",
              "      <td>12713.0</td>\n",
              "      <td>Germany</td>\n",
              "    </tr>\n",
              "    <tr>\n",
              "      <th>15675</th>\n",
              "      <td>581578</td>\n",
              "      <td>22992</td>\n",
              "      <td>12</td>\n",
              "      <td>12/9/2011 12:16</td>\n",
              "      <td>195</td>\n",
              "      <td>12713.0</td>\n",
              "      <td>Germany</td>\n",
              "    </tr>\n",
              "    <tr>\n",
              "      <th>15676</th>\n",
              "      <td>581579</td>\n",
              "      <td>21931</td>\n",
              "      <td>10</td>\n",
              "      <td>12/9/2011 12:19</td>\n",
              "      <td>179</td>\n",
              "      <td>17581.0</td>\n",
              "      <td>United Kingdom</td>\n",
              "    </tr>\n",
              "  </tbody>\n",
              "</table>\n",
              "<p>15677 rows × 7 columns</p>\n",
              "</div>"
            ],
            "text/plain": [
              "      InvoiceNo StockCode  Quantity  ... UnitPrice  CustomerID         Country\n",
              "0        536378     21931        10  ...       195     14688.0  United Kingdom\n",
              "1        536382     22379        10  ...        21     16098.0  United Kingdom\n",
              "2        536394     22866        96  ...       185     13408.0  United Kingdom\n",
              "3        536395     22866        48  ...        21     13767.0  United Kingdom\n",
              "4        536398     22866        12  ...        21     13448.0  United Kingdom\n",
              "...         ...       ...       ...  ...       ...         ...             ...\n",
              "15672    581538     22992         1  ...       195     14446.0  United Kingdom\n",
              "15673   C581569     20979        -5  ...       125     17315.0  United Kingdom\n",
              "15674    581578    84997D         8  ...       415     12713.0         Germany\n",
              "15675    581578     22992        12  ...       195     12713.0         Germany\n",
              "15676    581579     21931        10  ...       179     17581.0  United Kingdom\n",
              "\n",
              "[15677 rows x 7 columns]"
            ]
          },
          "metadata": {
            "tags": []
          },
          "execution_count": 21
        }
      ]
    },
    {
      "cell_type": "markdown",
      "metadata": {
        "id": "kmRhSRDzRm2c"
      },
      "source": [
        "##### ver que tipos de datos lo importo Python\n"
      ]
    },
    {
      "cell_type": "code",
      "metadata": {
        "id": "KnduI5SKOvl3",
        "outputId": "5b85a783-e401-421c-f5ae-e7fc81e910e1",
        "colab": {
          "base_uri": "https://localhost:8080/"
        }
      },
      "source": [
        "transacciones.info()"
      ],
      "execution_count": 22,
      "outputs": [
        {
          "output_type": "stream",
          "text": [
            "<class 'pandas.core.frame.DataFrame'>\n",
            "RangeIndex: 15677 entries, 0 to 15676\n",
            "Data columns (total 7 columns):\n",
            " #   Column       Non-Null Count  Dtype  \n",
            "---  ------       --------------  -----  \n",
            " 0   InvoiceNo    15677 non-null  object \n",
            " 1   StockCode    15677 non-null  object \n",
            " 2   Quantity     15677 non-null  int64  \n",
            " 3   InvoiceDate  15677 non-null  object \n",
            " 4   UnitPrice    15677 non-null  int64  \n",
            " 5   CustomerID   11300 non-null  float64\n",
            " 6   Country      15677 non-null  object \n",
            "dtypes: float64(1), int64(2), object(4)\n",
            "memory usage: 857.5+ KB\n"
          ],
          "name": "stdout"
        }
      ]
    },
    {
      "cell_type": "code",
      "metadata": {
        "id": "GWa36HXORv_b",
        "outputId": "eb8b15f7-48a3-4a0a-e563-5887c6c06cc2",
        "colab": {
          "base_uri": "https://localhost:8080/"
        }
      },
      "source": [
        "# Seleccionar una columna\n",
        "productos['Description']"
      ],
      "execution_count": 23,
      "outputs": [
        {
          "output_type": "execute_result",
          "data": {
            "text/plain": [
              "0                  CINDERELLA CHANDELIER \n",
              "1              ROSE DU SUD DRAWSTRING BAG\n",
              "2                        GOLD PHOTO FRAME\n",
              "3      3 PIECE SPACEBOY COOKIE CUTTER SET\n",
              "4                 PENS ASSORTED SPACEBALL\n",
              "                     ...                 \n",
              "95        FUSCHIA FLOWER PURSE WITH BEADS\n",
              "96    ANTIQUE TALL SWIRLGLASS TRINKET POT\n",
              "97          DROP EARRINGS W FLOWER & LEAF\n",
              "98       HANGING CHICK  YELLOW DECORATION\n",
              "99     WHITE/PINK CHICK EASTER DECORATION\n",
              "Name: Description, Length: 100, dtype: object"
            ]
          },
          "metadata": {
            "tags": []
          },
          "execution_count": 23
        }
      ]
    },
    {
      "cell_type": "code",
      "metadata": {
        "id": "QArQzDAxUTCV",
        "outputId": "8fde6861-d62d-441f-8592-c6298cf4a32b",
        "colab": {
          "base_uri": "https://localhost:8080/"
        }
      },
      "source": [
        "# Seleccionar una columna\n",
        "productos.Description"
      ],
      "execution_count": 24,
      "outputs": [
        {
          "output_type": "execute_result",
          "data": {
            "text/plain": [
              "0                  CINDERELLA CHANDELIER \n",
              "1              ROSE DU SUD DRAWSTRING BAG\n",
              "2                        GOLD PHOTO FRAME\n",
              "3      3 PIECE SPACEBOY COOKIE CUTTER SET\n",
              "4                 PENS ASSORTED SPACEBALL\n",
              "                     ...                 \n",
              "95        FUSCHIA FLOWER PURSE WITH BEADS\n",
              "96    ANTIQUE TALL SWIRLGLASS TRINKET POT\n",
              "97          DROP EARRINGS W FLOWER & LEAF\n",
              "98       HANGING CHICK  YELLOW DECORATION\n",
              "99     WHITE/PINK CHICK EASTER DECORATION\n",
              "Name: Description, Length: 100, dtype: object"
            ]
          },
          "metadata": {
            "tags": []
          },
          "execution_count": 24
        }
      ]
    },
    {
      "cell_type": "code",
      "metadata": {
        "id": "bbpC5_mVUNiG",
        "outputId": "46f4b2f1-9b8b-440d-dfc1-fe2f8156b67f",
        "colab": {
          "base_uri": "https://localhost:8080/",
          "height": 419
        }
      },
      "source": [
        "# Seleccionar varias columnas\n",
        "transacciones[ ['StockCode', 'Quantity', 'Country'] ]\n"
      ],
      "execution_count": 25,
      "outputs": [
        {
          "output_type": "execute_result",
          "data": {
            "text/html": [
              "<div>\n",
              "<style scoped>\n",
              "    .dataframe tbody tr th:only-of-type {\n",
              "        vertical-align: middle;\n",
              "    }\n",
              "\n",
              "    .dataframe tbody tr th {\n",
              "        vertical-align: top;\n",
              "    }\n",
              "\n",
              "    .dataframe thead th {\n",
              "        text-align: right;\n",
              "    }\n",
              "</style>\n",
              "<table border=\"1\" class=\"dataframe\">\n",
              "  <thead>\n",
              "    <tr style=\"text-align: right;\">\n",
              "      <th></th>\n",
              "      <th>StockCode</th>\n",
              "      <th>Quantity</th>\n",
              "      <th>Country</th>\n",
              "    </tr>\n",
              "  </thead>\n",
              "  <tbody>\n",
              "    <tr>\n",
              "      <th>0</th>\n",
              "      <td>21931</td>\n",
              "      <td>10</td>\n",
              "      <td>United Kingdom</td>\n",
              "    </tr>\n",
              "    <tr>\n",
              "      <th>1</th>\n",
              "      <td>22379</td>\n",
              "      <td>10</td>\n",
              "      <td>United Kingdom</td>\n",
              "    </tr>\n",
              "    <tr>\n",
              "      <th>2</th>\n",
              "      <td>22866</td>\n",
              "      <td>96</td>\n",
              "      <td>United Kingdom</td>\n",
              "    </tr>\n",
              "    <tr>\n",
              "      <th>3</th>\n",
              "      <td>22866</td>\n",
              "      <td>48</td>\n",
              "      <td>United Kingdom</td>\n",
              "    </tr>\n",
              "    <tr>\n",
              "      <th>4</th>\n",
              "      <td>22866</td>\n",
              "      <td>12</td>\n",
              "      <td>United Kingdom</td>\n",
              "    </tr>\n",
              "    <tr>\n",
              "      <th>...</th>\n",
              "      <td>...</td>\n",
              "      <td>...</td>\n",
              "      <td>...</td>\n",
              "    </tr>\n",
              "    <tr>\n",
              "      <th>15672</th>\n",
              "      <td>22992</td>\n",
              "      <td>1</td>\n",
              "      <td>United Kingdom</td>\n",
              "    </tr>\n",
              "    <tr>\n",
              "      <th>15673</th>\n",
              "      <td>20979</td>\n",
              "      <td>-5</td>\n",
              "      <td>United Kingdom</td>\n",
              "    </tr>\n",
              "    <tr>\n",
              "      <th>15674</th>\n",
              "      <td>84997D</td>\n",
              "      <td>8</td>\n",
              "      <td>Germany</td>\n",
              "    </tr>\n",
              "    <tr>\n",
              "      <th>15675</th>\n",
              "      <td>22992</td>\n",
              "      <td>12</td>\n",
              "      <td>Germany</td>\n",
              "    </tr>\n",
              "    <tr>\n",
              "      <th>15676</th>\n",
              "      <td>21931</td>\n",
              "      <td>10</td>\n",
              "      <td>United Kingdom</td>\n",
              "    </tr>\n",
              "  </tbody>\n",
              "</table>\n",
              "<p>15677 rows × 3 columns</p>\n",
              "</div>"
            ],
            "text/plain": [
              "      StockCode  Quantity         Country\n",
              "0         21931        10  United Kingdom\n",
              "1         22379        10  United Kingdom\n",
              "2         22866        96  United Kingdom\n",
              "3         22866        48  United Kingdom\n",
              "4         22866        12  United Kingdom\n",
              "...         ...       ...             ...\n",
              "15672     22992         1  United Kingdom\n",
              "15673     20979        -5  United Kingdom\n",
              "15674    84997D         8         Germany\n",
              "15675     22992        12         Germany\n",
              "15676     21931        10  United Kingdom\n",
              "\n",
              "[15677 rows x 3 columns]"
            ]
          },
          "metadata": {
            "tags": []
          },
          "execution_count": 25
        }
      ]
    },
    {
      "cell_type": "code",
      "metadata": {
        "id": "QLMbjp68Unax",
        "outputId": "33e48539-2f30-4aa4-a5eb-6aa6a32af210",
        "colab": {
          "base_uri": "https://localhost:8080/",
          "height": 173
        }
      },
      "source": [
        "# Filtrar Filas por número usando un slice (sólo iloc)\n",
        "transacciones.iloc[ 0:4]"
      ],
      "execution_count": 26,
      "outputs": [
        {
          "output_type": "execute_result",
          "data": {
            "text/html": [
              "<div>\n",
              "<style scoped>\n",
              "    .dataframe tbody tr th:only-of-type {\n",
              "        vertical-align: middle;\n",
              "    }\n",
              "\n",
              "    .dataframe tbody tr th {\n",
              "        vertical-align: top;\n",
              "    }\n",
              "\n",
              "    .dataframe thead th {\n",
              "        text-align: right;\n",
              "    }\n",
              "</style>\n",
              "<table border=\"1\" class=\"dataframe\">\n",
              "  <thead>\n",
              "    <tr style=\"text-align: right;\">\n",
              "      <th></th>\n",
              "      <th>InvoiceNo</th>\n",
              "      <th>StockCode</th>\n",
              "      <th>Quantity</th>\n",
              "      <th>InvoiceDate</th>\n",
              "      <th>UnitPrice</th>\n",
              "      <th>CustomerID</th>\n",
              "      <th>Country</th>\n",
              "    </tr>\n",
              "  </thead>\n",
              "  <tbody>\n",
              "    <tr>\n",
              "      <th>0</th>\n",
              "      <td>536378</td>\n",
              "      <td>21931</td>\n",
              "      <td>10</td>\n",
              "      <td>12/1/2010 9:37</td>\n",
              "      <td>195</td>\n",
              "      <td>14688.0</td>\n",
              "      <td>United Kingdom</td>\n",
              "    </tr>\n",
              "    <tr>\n",
              "      <th>1</th>\n",
              "      <td>536382</td>\n",
              "      <td>22379</td>\n",
              "      <td>10</td>\n",
              "      <td>12/1/2010 9:45</td>\n",
              "      <td>21</td>\n",
              "      <td>16098.0</td>\n",
              "      <td>United Kingdom</td>\n",
              "    </tr>\n",
              "    <tr>\n",
              "      <th>2</th>\n",
              "      <td>536394</td>\n",
              "      <td>22866</td>\n",
              "      <td>96</td>\n",
              "      <td>12/1/2010 10:39</td>\n",
              "      <td>185</td>\n",
              "      <td>13408.0</td>\n",
              "      <td>United Kingdom</td>\n",
              "    </tr>\n",
              "    <tr>\n",
              "      <th>3</th>\n",
              "      <td>536395</td>\n",
              "      <td>22866</td>\n",
              "      <td>48</td>\n",
              "      <td>12/1/2010 10:47</td>\n",
              "      <td>21</td>\n",
              "      <td>13767.0</td>\n",
              "      <td>United Kingdom</td>\n",
              "    </tr>\n",
              "  </tbody>\n",
              "</table>\n",
              "</div>"
            ],
            "text/plain": [
              "  InvoiceNo StockCode  Quantity  ... UnitPrice  CustomerID         Country\n",
              "0    536378     21931        10  ...       195     14688.0  United Kingdom\n",
              "1    536382     22379        10  ...        21     16098.0  United Kingdom\n",
              "2    536394     22866        96  ...       185     13408.0  United Kingdom\n",
              "3    536395     22866        48  ...        21     13767.0  United Kingdom\n",
              "\n",
              "[4 rows x 7 columns]"
            ]
          },
          "metadata": {
            "tags": []
          },
          "execution_count": 26
        }
      ]
    },
    {
      "cell_type": "code",
      "metadata": {
        "id": "W47Z8zLcVYZy",
        "outputId": "677c2307-354e-489f-b717-15ec95babbf0",
        "colab": {
          "base_uri": "https://localhost:8080/",
          "height": 419
        }
      },
      "source": [
        "# Filtrar filas según una condición loc\n",
        "# Filtrar transacciones cuyo tiempo de servicio sea mayor a 100\n",
        "transacciones.loc[ (transacciones[\"Country\"] == \"United Kingdom\") &\n",
        "(transacciones[\"Quantity\"] > 10) ]"
      ],
      "execution_count": 27,
      "outputs": [
        {
          "output_type": "execute_result",
          "data": {
            "text/html": [
              "<div>\n",
              "<style scoped>\n",
              "    .dataframe tbody tr th:only-of-type {\n",
              "        vertical-align: middle;\n",
              "    }\n",
              "\n",
              "    .dataframe tbody tr th {\n",
              "        vertical-align: top;\n",
              "    }\n",
              "\n",
              "    .dataframe thead th {\n",
              "        text-align: right;\n",
              "    }\n",
              "</style>\n",
              "<table border=\"1\" class=\"dataframe\">\n",
              "  <thead>\n",
              "    <tr style=\"text-align: right;\">\n",
              "      <th></th>\n",
              "      <th>InvoiceNo</th>\n",
              "      <th>StockCode</th>\n",
              "      <th>Quantity</th>\n",
              "      <th>InvoiceDate</th>\n",
              "      <th>UnitPrice</th>\n",
              "      <th>CustomerID</th>\n",
              "      <th>Country</th>\n",
              "    </tr>\n",
              "  </thead>\n",
              "  <tbody>\n",
              "    <tr>\n",
              "      <th>2</th>\n",
              "      <td>536394</td>\n",
              "      <td>22866</td>\n",
              "      <td>96</td>\n",
              "      <td>12/1/2010 10:39</td>\n",
              "      <td>185</td>\n",
              "      <td>13408.0</td>\n",
              "      <td>United Kingdom</td>\n",
              "    </tr>\n",
              "    <tr>\n",
              "      <th>3</th>\n",
              "      <td>536395</td>\n",
              "      <td>22866</td>\n",
              "      <td>48</td>\n",
              "      <td>12/1/2010 10:47</td>\n",
              "      <td>21</td>\n",
              "      <td>13767.0</td>\n",
              "      <td>United Kingdom</td>\n",
              "    </tr>\n",
              "    <tr>\n",
              "      <th>4</th>\n",
              "      <td>536398</td>\n",
              "      <td>22866</td>\n",
              "      <td>12</td>\n",
              "      <td>12/1/2010 10:52</td>\n",
              "      <td>21</td>\n",
              "      <td>13448.0</td>\n",
              "      <td>United Kingdom</td>\n",
              "    </tr>\n",
              "    <tr>\n",
              "      <th>8</th>\n",
              "      <td>536404</td>\n",
              "      <td>22773</td>\n",
              "      <td>12</td>\n",
              "      <td>12/1/2010 11:29</td>\n",
              "      <td>125</td>\n",
              "      <td>16218.0</td>\n",
              "      <td>United Kingdom</td>\n",
              "    </tr>\n",
              "    <tr>\n",
              "      <th>9</th>\n",
              "      <td>536404</td>\n",
              "      <td>22964</td>\n",
              "      <td>12</td>\n",
              "      <td>12/1/2010 11:29</td>\n",
              "      <td>21</td>\n",
              "      <td>16218.0</td>\n",
              "      <td>United Kingdom</td>\n",
              "    </tr>\n",
              "    <tr>\n",
              "      <th>...</th>\n",
              "      <td>...</td>\n",
              "      <td>...</td>\n",
              "      <td>...</td>\n",
              "      <td>...</td>\n",
              "      <td>...</td>\n",
              "      <td>...</td>\n",
              "      <td>...</td>\n",
              "    </tr>\n",
              "    <tr>\n",
              "      <th>15627</th>\n",
              "      <td>581475</td>\n",
              "      <td>22380</td>\n",
              "      <td>20</td>\n",
              "      <td>12/9/2011 8:39</td>\n",
              "      <td>79</td>\n",
              "      <td>13069.0</td>\n",
              "      <td>United Kingdom</td>\n",
              "    </tr>\n",
              "    <tr>\n",
              "      <th>15631</th>\n",
              "      <td>581488</td>\n",
              "      <td>22179</td>\n",
              "      <td>24</td>\n",
              "      <td>12/9/2011 9:45</td>\n",
              "      <td>595</td>\n",
              "      <td>17428.0</td>\n",
              "      <td>United Kingdom</td>\n",
              "    </tr>\n",
              "    <tr>\n",
              "      <th>15657</th>\n",
              "      <td>581496</td>\n",
              "      <td>20831</td>\n",
              "      <td>12</td>\n",
              "      <td>12/9/2011 10:20</td>\n",
              "      <td>79</td>\n",
              "      <td>16558.0</td>\n",
              "      <td>United Kingdom</td>\n",
              "    </tr>\n",
              "    <tr>\n",
              "      <th>15665</th>\n",
              "      <td>581514</td>\n",
              "      <td>84031B</td>\n",
              "      <td>14</td>\n",
              "      <td>12/9/2011 11:20</td>\n",
              "      <td>125</td>\n",
              "      <td>17754.0</td>\n",
              "      <td>United Kingdom</td>\n",
              "    </tr>\n",
              "    <tr>\n",
              "      <th>15666</th>\n",
              "      <td>581514</td>\n",
              "      <td>22068</td>\n",
              "      <td>14</td>\n",
              "      <td>12/9/2011 11:20</td>\n",
              "      <td>39</td>\n",
              "      <td>17754.0</td>\n",
              "      <td>United Kingdom</td>\n",
              "    </tr>\n",
              "  </tbody>\n",
              "</table>\n",
              "<p>3007 rows × 7 columns</p>\n",
              "</div>"
            ],
            "text/plain": [
              "      InvoiceNo StockCode  Quantity  ... UnitPrice  CustomerID         Country\n",
              "2        536394     22866        96  ...       185     13408.0  United Kingdom\n",
              "3        536395     22866        48  ...        21     13767.0  United Kingdom\n",
              "4        536398     22866        12  ...        21     13448.0  United Kingdom\n",
              "8        536404     22773        12  ...       125     16218.0  United Kingdom\n",
              "9        536404     22964        12  ...        21     16218.0  United Kingdom\n",
              "...         ...       ...       ...  ...       ...         ...             ...\n",
              "15627    581475     22380        20  ...        79     13069.0  United Kingdom\n",
              "15631    581488     22179        24  ...       595     17428.0  United Kingdom\n",
              "15657    581496     20831        12  ...        79     16558.0  United Kingdom\n",
              "15665    581514    84031B        14  ...       125     17754.0  United Kingdom\n",
              "15666    581514     22068        14  ...        39     17754.0  United Kingdom\n",
              "\n",
              "[3007 rows x 7 columns]"
            ]
          },
          "metadata": {
            "tags": []
          },
          "execution_count": 27
        }
      ]
    },
    {
      "cell_type": "markdown",
      "metadata": {
        "id": "CytcHj6yVzwD"
      },
      "source": [
        "##Ordenar los datos\n",
        "###Para ordenar los datos usamos .sort_values() así:\n",
        "  - df.sort_values( \"columna\")\n",
        "  - df.sort_values( \"columna\", ascenascending=False)<-descendente"
      ]
    },
    {
      "cell_type": "code",
      "metadata": {
        "id": "ECXpGijxVpyr",
        "outputId": "62176e42-d42c-482a-a40d-990369230360",
        "colab": {
          "base_uri": "https://localhost:8080/",
          "height": 419
        }
      },
      "source": [
        "transacciones.sort_values( \"Quantity\")"
      ],
      "execution_count": 28,
      "outputs": [
        {
          "output_type": "execute_result",
          "data": {
            "text/html": [
              "<div>\n",
              "<style scoped>\n",
              "    .dataframe tbody tr th:only-of-type {\n",
              "        vertical-align: middle;\n",
              "    }\n",
              "\n",
              "    .dataframe tbody tr th {\n",
              "        vertical-align: top;\n",
              "    }\n",
              "\n",
              "    .dataframe thead th {\n",
              "        text-align: right;\n",
              "    }\n",
              "</style>\n",
              "<table border=\"1\" class=\"dataframe\">\n",
              "  <thead>\n",
              "    <tr style=\"text-align: right;\">\n",
              "      <th></th>\n",
              "      <th>InvoiceNo</th>\n",
              "      <th>StockCode</th>\n",
              "      <th>Quantity</th>\n",
              "      <th>InvoiceDate</th>\n",
              "      <th>UnitPrice</th>\n",
              "      <th>CustomerID</th>\n",
              "      <th>Country</th>\n",
              "    </tr>\n",
              "  </thead>\n",
              "  <tbody>\n",
              "    <tr>\n",
              "      <th>5784</th>\n",
              "      <td>552733</td>\n",
              "      <td>23059</td>\n",
              "      <td>-2376</td>\n",
              "      <td>5/11/2011 10:48</td>\n",
              "      <td>0</td>\n",
              "      <td>NaN</td>\n",
              "      <td>United Kingdom</td>\n",
              "    </tr>\n",
              "    <tr>\n",
              "      <th>2295</th>\n",
              "      <td>C542693</td>\n",
              "      <td>15036</td>\n",
              "      <td>-600</td>\n",
              "      <td>1/31/2011 12:36</td>\n",
              "      <td>65</td>\n",
              "      <td>12908.0</td>\n",
              "      <td>United Kingdom</td>\n",
              "    </tr>\n",
              "    <tr>\n",
              "      <th>13845</th>\n",
              "      <td>576765</td>\n",
              "      <td>22219</td>\n",
              "      <td>-550</td>\n",
              "      <td>11/16/2011 13:11</td>\n",
              "      <td>0</td>\n",
              "      <td>NaN</td>\n",
              "      <td>United Kingdom</td>\n",
              "    </tr>\n",
              "    <tr>\n",
              "      <th>8553</th>\n",
              "      <td>561086</td>\n",
              "      <td>15036</td>\n",
              "      <td>-530</td>\n",
              "      <td>7/25/2011 9:32</td>\n",
              "      <td>0</td>\n",
              "      <td>NaN</td>\n",
              "      <td>United Kingdom</td>\n",
              "    </tr>\n",
              "    <tr>\n",
              "      <th>11209</th>\n",
              "      <td>569341</td>\n",
              "      <td>82600</td>\n",
              "      <td>-458</td>\n",
              "      <td>10/3/2011 14:19</td>\n",
              "      <td>0</td>\n",
              "      <td>NaN</td>\n",
              "      <td>United Kingdom</td>\n",
              "    </tr>\n",
              "    <tr>\n",
              "      <th>...</th>\n",
              "      <td>...</td>\n",
              "      <td>...</td>\n",
              "      <td>...</td>\n",
              "      <td>...</td>\n",
              "      <td>...</td>\n",
              "      <td>...</td>\n",
              "      <td>...</td>\n",
              "    </tr>\n",
              "    <tr>\n",
              "      <th>7169</th>\n",
              "      <td>557092</td>\n",
              "      <td>15036</td>\n",
              "      <td>600</td>\n",
              "      <td>6/16/2011 15:39</td>\n",
              "      <td>72</td>\n",
              "      <td>12908.0</td>\n",
              "      <td>United Kingdom</td>\n",
              "    </tr>\n",
              "    <tr>\n",
              "      <th>11395</th>\n",
              "      <td>569815</td>\n",
              "      <td>22379</td>\n",
              "      <td>700</td>\n",
              "      <td>10/6/2011 11:53</td>\n",
              "      <td>185</td>\n",
              "      <td>15838.0</td>\n",
              "      <td>United Kingdom</td>\n",
              "    </tr>\n",
              "    <tr>\n",
              "      <th>8906</th>\n",
              "      <td>562285</td>\n",
              "      <td>15036</td>\n",
              "      <td>720</td>\n",
              "      <td>8/4/2011 10:45</td>\n",
              "      <td>72</td>\n",
              "      <td>17404.0</td>\n",
              "      <td>Sweden</td>\n",
              "    </tr>\n",
              "    <tr>\n",
              "      <th>7817</th>\n",
              "      <td>559047</td>\n",
              "      <td>15036</td>\n",
              "      <td>1200</td>\n",
              "      <td>7/5/2011 15:44</td>\n",
              "      <td>72</td>\n",
              "      <td>13082.0</td>\n",
              "      <td>United Kingdom</td>\n",
              "    </tr>\n",
              "    <tr>\n",
              "      <th>2478</th>\n",
              "      <td>543192</td>\n",
              "      <td>15036</td>\n",
              "      <td>1200</td>\n",
              "      <td>2/4/2011 11:55</td>\n",
              "      <td>65</td>\n",
              "      <td>17381.0</td>\n",
              "      <td>United Kingdom</td>\n",
              "    </tr>\n",
              "  </tbody>\n",
              "</table>\n",
              "<p>15677 rows × 7 columns</p>\n",
              "</div>"
            ],
            "text/plain": [
              "      InvoiceNo StockCode  Quantity  ... UnitPrice  CustomerID         Country\n",
              "5784     552733     23059     -2376  ...         0         NaN  United Kingdom\n",
              "2295    C542693     15036      -600  ...        65     12908.0  United Kingdom\n",
              "13845    576765     22219      -550  ...         0         NaN  United Kingdom\n",
              "8553     561086     15036      -530  ...         0         NaN  United Kingdom\n",
              "11209    569341     82600      -458  ...         0         NaN  United Kingdom\n",
              "...         ...       ...       ...  ...       ...         ...             ...\n",
              "7169     557092     15036       600  ...        72     12908.0  United Kingdom\n",
              "11395    569815     22379       700  ...       185     15838.0  United Kingdom\n",
              "8906     562285     15036       720  ...        72     17404.0          Sweden\n",
              "7817     559047     15036      1200  ...        72     13082.0  United Kingdom\n",
              "2478     543192     15036      1200  ...        65     17381.0  United Kingdom\n",
              "\n",
              "[15677 rows x 7 columns]"
            ]
          },
          "metadata": {
            "tags": []
          },
          "execution_count": 28
        }
      ]
    },
    {
      "cell_type": "markdown",
      "metadata": {
        "id": "6WWANmfRWxFf"
      },
      "source": [
        "##Crear o modi car columnas/variables\n",
        "  dataFrame['nueva_Var'] = ....\n",
        "  Crear una nueva columna con el tiempo en minutos, opc"
      ]
    },
    {
      "cell_type": "code",
      "metadata": {
        "id": "azxE0pj4WAw1",
        "outputId": "c11ed25d-3116-4b59-ef2c-46e566e68d8f",
        "colab": {
          "base_uri": "https://localhost:8080/",
          "height": 204
        }
      },
      "source": [
        "transacciones['Cantidad_10'] = transacciones['Quantity']*10\n",
        "transacciones.head(5)"
      ],
      "execution_count": 33,
      "outputs": [
        {
          "output_type": "execute_result",
          "data": {
            "text/html": [
              "<div>\n",
              "<style scoped>\n",
              "    .dataframe tbody tr th:only-of-type {\n",
              "        vertical-align: middle;\n",
              "    }\n",
              "\n",
              "    .dataframe tbody tr th {\n",
              "        vertical-align: top;\n",
              "    }\n",
              "\n",
              "    .dataframe thead th {\n",
              "        text-align: right;\n",
              "    }\n",
              "</style>\n",
              "<table border=\"1\" class=\"dataframe\">\n",
              "  <thead>\n",
              "    <tr style=\"text-align: right;\">\n",
              "      <th></th>\n",
              "      <th>InvoiceNo</th>\n",
              "      <th>StockCode</th>\n",
              "      <th>Quantity</th>\n",
              "      <th>InvoiceDate</th>\n",
              "      <th>UnitPrice</th>\n",
              "      <th>CustomerID</th>\n",
              "      <th>Country</th>\n",
              "      <th>Cantidad_10</th>\n",
              "    </tr>\n",
              "  </thead>\n",
              "  <tbody>\n",
              "    <tr>\n",
              "      <th>0</th>\n",
              "      <td>536378</td>\n",
              "      <td>21931</td>\n",
              "      <td>10</td>\n",
              "      <td>12/1/2010 9:37</td>\n",
              "      <td>195</td>\n",
              "      <td>14688.0</td>\n",
              "      <td>United Kingdom</td>\n",
              "      <td>100</td>\n",
              "    </tr>\n",
              "    <tr>\n",
              "      <th>1</th>\n",
              "      <td>536382</td>\n",
              "      <td>22379</td>\n",
              "      <td>10</td>\n",
              "      <td>12/1/2010 9:45</td>\n",
              "      <td>21</td>\n",
              "      <td>16098.0</td>\n",
              "      <td>United Kingdom</td>\n",
              "      <td>100</td>\n",
              "    </tr>\n",
              "    <tr>\n",
              "      <th>2</th>\n",
              "      <td>536394</td>\n",
              "      <td>22866</td>\n",
              "      <td>96</td>\n",
              "      <td>12/1/2010 10:39</td>\n",
              "      <td>185</td>\n",
              "      <td>13408.0</td>\n",
              "      <td>United Kingdom</td>\n",
              "      <td>960</td>\n",
              "    </tr>\n",
              "    <tr>\n",
              "      <th>3</th>\n",
              "      <td>536395</td>\n",
              "      <td>22866</td>\n",
              "      <td>48</td>\n",
              "      <td>12/1/2010 10:47</td>\n",
              "      <td>21</td>\n",
              "      <td>13767.0</td>\n",
              "      <td>United Kingdom</td>\n",
              "      <td>480</td>\n",
              "    </tr>\n",
              "    <tr>\n",
              "      <th>4</th>\n",
              "      <td>536398</td>\n",
              "      <td>22866</td>\n",
              "      <td>12</td>\n",
              "      <td>12/1/2010 10:52</td>\n",
              "      <td>21</td>\n",
              "      <td>13448.0</td>\n",
              "      <td>United Kingdom</td>\n",
              "      <td>120</td>\n",
              "    </tr>\n",
              "  </tbody>\n",
              "</table>\n",
              "</div>"
            ],
            "text/plain": [
              "  InvoiceNo StockCode  Quantity  ... CustomerID         Country  Cantidad_10\n",
              "0    536378     21931        10  ...    14688.0  United Kingdom          100\n",
              "1    536382     22379        10  ...    16098.0  United Kingdom          100\n",
              "2    536394     22866        96  ...    13408.0  United Kingdom          960\n",
              "3    536395     22866        48  ...    13767.0  United Kingdom          480\n",
              "4    536398     22866        12  ...    13448.0  United Kingdom          120\n",
              "\n",
              "[5 rows x 8 columns]"
            ]
          },
          "metadata": {
            "tags": []
          },
          "execution_count": 33
        }
      ]
    },
    {
      "cell_type": "markdown",
      "metadata": {
        "id": "hsYJzSLqW-ty"
      },
      "source": [
        "##Eliminar columnas\n",
        "Para eliminar se usa del y .drop"
      ]
    },
    {
      "cell_type": "code",
      "metadata": {
        "id": "QgYHCaU9W3Qz"
      },
      "source": [
        "# borrar una columna \"in-place\"\n",
        "del transacciones['Cantidad_10']"
      ],
      "execution_count": 34,
      "outputs": []
    },
    {
      "cell_type": "markdown",
      "metadata": {
        "id": "DH-0a8-QYGMn"
      },
      "source": [
        "##Crear o modi car columnas/variables\n",
        "\n",
        "**Con esto ya podemos modificar la columna 'InvoiceDate' y pasarla a tipo fecha"
      ]
    },
    {
      "cell_type": "code",
      "metadata": {
        "id": "b4csy10sXBow",
        "outputId": "17a04e34-0422-4f41-e624-de75deefbde4",
        "colab": {
          "base_uri": "https://localhost:8080/"
        }
      },
      "source": [
        "# Cambiar la columna data a fecha\n",
        "transacciones[\"InvoiceDate\"] = pd.to_datetime(transacciones[\"InvoiceDate\"])\n",
        "transacciones[\"CustomerID\"] = transacciones[\"CustomerID\"].astype(str)\n",
        "transacciones.info()"
      ],
      "execution_count": 35,
      "outputs": [
        {
          "output_type": "stream",
          "text": [
            "<class 'pandas.core.frame.DataFrame'>\n",
            "RangeIndex: 15677 entries, 0 to 15676\n",
            "Data columns (total 7 columns):\n",
            " #   Column       Non-Null Count  Dtype         \n",
            "---  ------       --------------  -----         \n",
            " 0   InvoiceNo    15677 non-null  object        \n",
            " 1   StockCode    15677 non-null  object        \n",
            " 2   Quantity     15677 non-null  int64         \n",
            " 3   InvoiceDate  15677 non-null  datetime64[ns]\n",
            " 4   UnitPrice    15677 non-null  int64         \n",
            " 5   CustomerID   15677 non-null  object        \n",
            " 6   Country      15677 non-null  object        \n",
            "dtypes: datetime64[ns](1), int64(2), object(4)\n",
            "memory usage: 857.5+ KB\n"
          ],
          "name": "stdout"
        }
      ]
    },
    {
      "cell_type": "markdown",
      "metadata": {
        "id": "iJKGbTAYq29r"
      },
      "source": [
        "#Unir datos - Merge|Join|Buscarv"
      ]
    },
    {
      "cell_type": "code",
      "metadata": {
        "id": "tkvV8VWfqx1l",
        "outputId": "3f0f97ba-565f-485c-8af0-22948fa9a6da",
        "colab": {
          "base_uri": "https://localhost:8080/",
          "height": 204
        }
      },
      "source": [
        "# Left join\n",
        "transacciones= transacciones.merge(productos,\n",
        "how='left', left_on='StockCode', right_on= 'StockCode')\n",
        "transacciones.head(5)"
      ],
      "execution_count": 36,
      "outputs": [
        {
          "output_type": "execute_result",
          "data": {
            "text/html": [
              "<div>\n",
              "<style scoped>\n",
              "    .dataframe tbody tr th:only-of-type {\n",
              "        vertical-align: middle;\n",
              "    }\n",
              "\n",
              "    .dataframe tbody tr th {\n",
              "        vertical-align: top;\n",
              "    }\n",
              "\n",
              "    .dataframe thead th {\n",
              "        text-align: right;\n",
              "    }\n",
              "</style>\n",
              "<table border=\"1\" class=\"dataframe\">\n",
              "  <thead>\n",
              "    <tr style=\"text-align: right;\">\n",
              "      <th></th>\n",
              "      <th>InvoiceNo</th>\n",
              "      <th>StockCode</th>\n",
              "      <th>Quantity</th>\n",
              "      <th>InvoiceDate</th>\n",
              "      <th>UnitPrice</th>\n",
              "      <th>CustomerID</th>\n",
              "      <th>Country</th>\n",
              "      <th>Description</th>\n",
              "    </tr>\n",
              "  </thead>\n",
              "  <tbody>\n",
              "    <tr>\n",
              "      <th>0</th>\n",
              "      <td>536378</td>\n",
              "      <td>21931</td>\n",
              "      <td>10</td>\n",
              "      <td>2010-12-01 09:37:00</td>\n",
              "      <td>195</td>\n",
              "      <td>14688.0</td>\n",
              "      <td>United Kingdom</td>\n",
              "      <td>JUMBO STORAGE BAG SUKI</td>\n",
              "    </tr>\n",
              "    <tr>\n",
              "      <th>1</th>\n",
              "      <td>536382</td>\n",
              "      <td>22379</td>\n",
              "      <td>10</td>\n",
              "      <td>2010-12-01 09:45:00</td>\n",
              "      <td>21</td>\n",
              "      <td>16098.0</td>\n",
              "      <td>United Kingdom</td>\n",
              "      <td>RECYCLING BAG RETROSPOT</td>\n",
              "    </tr>\n",
              "    <tr>\n",
              "      <th>2</th>\n",
              "      <td>536394</td>\n",
              "      <td>22866</td>\n",
              "      <td>96</td>\n",
              "      <td>2010-12-01 10:39:00</td>\n",
              "      <td>185</td>\n",
              "      <td>13408.0</td>\n",
              "      <td>United Kingdom</td>\n",
              "      <td>HAND WARMER SCOTTY DOG DESIGN</td>\n",
              "    </tr>\n",
              "    <tr>\n",
              "      <th>3</th>\n",
              "      <td>536395</td>\n",
              "      <td>22866</td>\n",
              "      <td>48</td>\n",
              "      <td>2010-12-01 10:47:00</td>\n",
              "      <td>21</td>\n",
              "      <td>13767.0</td>\n",
              "      <td>United Kingdom</td>\n",
              "      <td>HAND WARMER SCOTTY DOG DESIGN</td>\n",
              "    </tr>\n",
              "    <tr>\n",
              "      <th>4</th>\n",
              "      <td>536398</td>\n",
              "      <td>22866</td>\n",
              "      <td>12</td>\n",
              "      <td>2010-12-01 10:52:00</td>\n",
              "      <td>21</td>\n",
              "      <td>13448.0</td>\n",
              "      <td>United Kingdom</td>\n",
              "      <td>HAND WARMER SCOTTY DOG DESIGN</td>\n",
              "    </tr>\n",
              "  </tbody>\n",
              "</table>\n",
              "</div>"
            ],
            "text/plain": [
              "  InvoiceNo StockCode  ...         Country                    Description\n",
              "0    536378     21931  ...  United Kingdom         JUMBO STORAGE BAG SUKI\n",
              "1    536382     22379  ...  United Kingdom       RECYCLING BAG RETROSPOT \n",
              "2    536394     22866  ...  United Kingdom  HAND WARMER SCOTTY DOG DESIGN\n",
              "3    536395     22866  ...  United Kingdom  HAND WARMER SCOTTY DOG DESIGN\n",
              "4    536398     22866  ...  United Kingdom  HAND WARMER SCOTTY DOG DESIGN\n",
              "\n",
              "[5 rows x 8 columns]"
            ]
          },
          "metadata": {
            "tags": []
          },
          "execution_count": 36
        }
      ]
    },
    {
      "cell_type": "markdown",
      "metadata": {
        "id": "oHAY8_D8rBSF"
      },
      "source": [
        "##Pandas - Descriptivas"
      ]
    },
    {
      "cell_type": "code",
      "metadata": {
        "id": "uVjv_R7Lqy86",
        "outputId": "b1a43ca7-b8b8-45ea-87b7-59b71a58da96",
        "colab": {
          "base_uri": "https://localhost:8080/",
          "height": 297
        }
      },
      "source": [
        "transacciones.describe()"
      ],
      "execution_count": 37,
      "outputs": [
        {
          "output_type": "execute_result",
          "data": {
            "text/html": [
              "<div>\n",
              "<style scoped>\n",
              "    .dataframe tbody tr th:only-of-type {\n",
              "        vertical-align: middle;\n",
              "    }\n",
              "\n",
              "    .dataframe tbody tr th {\n",
              "        vertical-align: top;\n",
              "    }\n",
              "\n",
              "    .dataframe thead th {\n",
              "        text-align: right;\n",
              "    }\n",
              "</style>\n",
              "<table border=\"1\" class=\"dataframe\">\n",
              "  <thead>\n",
              "    <tr style=\"text-align: right;\">\n",
              "      <th></th>\n",
              "      <th>Quantity</th>\n",
              "      <th>UnitPrice</th>\n",
              "    </tr>\n",
              "  </thead>\n",
              "  <tbody>\n",
              "    <tr>\n",
              "      <th>count</th>\n",
              "      <td>15677.000000</td>\n",
              "      <td>15677.000000</td>\n",
              "    </tr>\n",
              "    <tr>\n",
              "      <th>mean</th>\n",
              "      <td>9.307521</td>\n",
              "      <td>316.796453</td>\n",
              "    </tr>\n",
              "    <tr>\n",
              "      <th>std</th>\n",
              "      <td>40.151242</td>\n",
              "      <td>565.844724</td>\n",
              "    </tr>\n",
              "    <tr>\n",
              "      <th>min</th>\n",
              "      <td>-2376.000000</td>\n",
              "      <td>0.000000</td>\n",
              "    </tr>\n",
              "    <tr>\n",
              "      <th>25%</th>\n",
              "      <td>1.000000</td>\n",
              "      <td>85.000000</td>\n",
              "    </tr>\n",
              "    <tr>\n",
              "      <th>50%</th>\n",
              "      <td>3.000000</td>\n",
              "      <td>195.000000</td>\n",
              "    </tr>\n",
              "    <tr>\n",
              "      <th>75%</th>\n",
              "      <td>10.000000</td>\n",
              "      <td>375.000000</td>\n",
              "    </tr>\n",
              "    <tr>\n",
              "      <th>max</th>\n",
              "      <td>1200.000000</td>\n",
              "      <td>9996.000000</td>\n",
              "    </tr>\n",
              "  </tbody>\n",
              "</table>\n",
              "</div>"
            ],
            "text/plain": [
              "           Quantity     UnitPrice\n",
              "count  15677.000000  15677.000000\n",
              "mean       9.307521    316.796453\n",
              "std       40.151242    565.844724\n",
              "min    -2376.000000      0.000000\n",
              "25%        1.000000     85.000000\n",
              "50%        3.000000    195.000000\n",
              "75%       10.000000    375.000000\n",
              "max     1200.000000   9996.000000"
            ]
          },
          "metadata": {
            "tags": []
          },
          "execution_count": 37
        }
      ]
    },
    {
      "cell_type": "code",
      "metadata": {
        "id": "sgbh9xLBrmbj"
      },
      "source": [
        "from google.colab import drive\n",
        "drive.mount('/content/drive')"
      ],
      "execution_count": null,
      "outputs": []
    },
    {
      "cell_type": "code",
      "metadata": {
        "id": "-nuenvXdrGnJ",
        "outputId": "c208fc90-91ca-4c1e-e8e7-d89c7de4b371",
        "colab": {
          "base_uri": "https://localhost:8080/"
        }
      },
      "source": [
        "# Media de la cantidad\n",
        "transacciones['Quantity'].mean()\n",
        "# Media acotada de la cantidad\n",
        "scipy.stats.trim_mean(transacciones.Quantity , 0.05)"
      ],
      "execution_count": 40,
      "outputs": [
        {
          "output_type": "execute_result",
          "data": {
            "text/plain": [
              "5.603642548366523"
            ]
          },
          "metadata": {
            "tags": []
          },
          "execution_count": 40
        }
      ]
    },
    {
      "cell_type": "code",
      "metadata": {
        "id": "yjT-OZI3rMO5"
      },
      "source": [
        ""
      ],
      "execution_count": null,
      "outputs": []
    }
  ]
}